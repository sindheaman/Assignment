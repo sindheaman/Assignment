{
 "cells": [
  {
   "cell_type": "code",
   "execution_count": null,
   "id": "94fa3f8c-7a72-4bf3-9a2b-b5f6f94d4f36",
   "metadata": {},
   "outputs": [],
   "source": [
    " \"\"\"1) What is programing? \n",
    "(ans):Programming is the process of designing, writing, testing, and maintaining the source code of computer programs. This source code is written in \n",
    "      one or more programming languages, which are used to communicate with a computer and instruct it to perform specific tasks.\"\"\""
   ]
  },
  {
   "cell_type": "code",
   "execution_count": null,
   "id": "f496d4b3-6f3d-4dde-9f43-9b4255948347",
   "metadata": {},
   "outputs": [],
   "source": [
    "\"\"\"2) what is python\n",
    "ans) python is a popular progarmming language.it was created by guido van rosssum and released in 1991\"\"\""
   ]
  },
  {
   "cell_type": "markdown",
   "id": "c7a190b6-ee01-45a6-a1b4-368d6399c12d",
   "metadata": {},
   "source": []
  },
  {
   "cell_type": "code",
   "execution_count": 6,
   "id": "bea891fe-85aa-423f-80a8-89c814976bc9",
   "metadata": {},
   "outputs": [
    {
     "name": "stdin",
     "output_type": "stream",
     "text": [
      "enter nubmer:  4\n"
     ]
    },
    {
     "name": "stdout",
     "output_type": "stream",
     "text": [
      "number is positive\n"
     ]
    }
   ],
   "source": [
    "\"\"\" 3)Write a Python program to check if a number is positive, negative or\n",
    "zero. \"\"\"\n",
    "num = int(input(\"enter nubmer: \"))\n",
    "if num < 0:\n",
    "    print(\"number is negetive\")\n",
    "elif num > 0:  \n",
    "    print(\"number is positive\")  \n",
    "else:\n",
    "     print(\"number is zero\")"
   ]
  },
  {
   "cell_type": "code",
   "execution_count": 12,
   "id": "a4fc77f2-2542-44eb-acff-7bddce823ea8",
   "metadata": {},
   "outputs": [
    {
     "name": "stdin",
     "output_type": "stream",
     "text": [
      "enter a number 4\n"
     ]
    },
    {
     "data": {
      "text/plain": [
       "24"
      ]
     },
     "execution_count": 12,
     "metadata": {},
     "output_type": "execute_result"
    }
   ],
   "source": [
    "\"\"\"4)Write a Python program to get the Factorial number of given numbers.\"\"\"\n",
    "def factorial(n):\n",
    "  fact=1\n",
    "  if n==0:\n",
    "    return 1\n",
    "  else:\n",
    "      for i in range(1,n+1):\n",
    "        fact=fact*i\n",
    "      return fact\n",
    "\n",
    "n=int(input(\"enter a number\"))\n",
    "factorial(n)\n",
    "\n",
    "\n",
    "\n"
   ]
  },
  {
   "cell_type": "code",
   "execution_count": 16,
   "id": "7bb2fea8-9722-4f57-9273-b83915b1ce70",
   "metadata": {},
   "outputs": [
    {
     "name": "stdin",
     "output_type": "stream",
     "text": [
      "enter number : 5\n"
     ]
    },
    {
     "name": "stdout",
     "output_type": "stream",
     "text": [
      "0 1 1 2 3 "
     ]
    }
   ],
   "source": [
    "\"\"\"5)Write a Python program to get the Fibonacci series of given range\"\"\"\n",
    "num=int(input(\"enter number :\"))\n",
    "\n",
    "a=0\n",
    "b=1\n",
    "c=0\n",
    "for i in range(num):\n",
    "    print(c,end=\" \")\n",
    "    a=b\n",
    "    b=c\n",
    "    c=a+b\n"
   ]
  },
  {
   "cell_type": "code",
   "execution_count": null,
   "id": "97f9315a-0ce9-4f55-a037-379abc801ed7",
   "metadata": {},
   "outputs": [],
   "source": [
    "\"\"\"6)How memory is managed in Python? \"\"\"\n",
    "pyton memory is managed by python private heap space.all python object and data structures are located in a private heap.\n",
    "the progarmmer does not have an access to this private heap and interpreter takes care of this python private heap.\n"
   ]
  },
  {
   "cell_type": "code",
   "execution_count": null,
   "id": "443e2cb2-100f-4ecf-a06c-9f85be787f6e",
   "metadata": {},
   "outputs": [],
   "source": [
    "\"\"\"7)What is the purpose continuing statement in python?\"\"\"\n",
    "statement is used within a loop to skip the current iteration and move on to the next one. it effectively jumps back to the \n",
    "loop'start bypaasing the remaining code block for the particular iteration\n"
   ]
  },
  {
   "cell_type": "code",
   "execution_count": 23,
   "id": "e0dc5c98-3eee-4028-83ff-451e4b6fe4c8",
   "metadata": {},
   "outputs": [
    {
     "name": "stdin",
     "output_type": "stream",
     "text": [
      "enter the value of a 4\n",
      "enter the value of b 2\n"
     ]
    },
    {
     "name": "stdout",
     "output_type": "stream",
     "text": [
      "before swapping value\n",
      "a= 4 b= 2\n",
      "after swapping value\n",
      "a= 2 b= 4\n"
     ]
    }
   ],
   "source": [
    "\"\"\"8)Write python program that swap two number with temp variable and without temp variable\"\"\"\n",
    "\n",
    "a=int(input(\"enter the value of a\"))\n",
    "b=int(input(\"enter the value of b\"))\n",
    "print(\"before swapping value\")\n",
    "print(\"a=\",a,\"b=\",b)\n",
    "a,b=b,a\n",
    "print(\"after swapping value\")\n",
    "print(\"a=\",a,\"b=\",b)\n",
    "\n",
    "\n"
   ]
  },
  {
   "cell_type": "code",
   "execution_count": null,
   "id": "a1683f17-53c3-4850-9984-c833d0b050b9",
   "metadata": {},
   "outputs": [],
   "source": [
    "\"\"\"9)What are the types of Applications? \"\"\"\n",
    "Web Applications,Mobile Applications,Desktop Applications, Enterprise Applications, Real-time Applications,Embedded System,\n",
    "Database Applications,Game Applications, Productivity Applications,Utility Applications"
   ]
  },
  {
   "cell_type": "code",
   "execution_count": 38,
   "id": "3dd98e2a-b1d1-4cab-a87b-4c8df9ddb01e",
   "metadata": {},
   "outputs": [
    {
     "name": "stdin",
     "output_type": "stream",
     "text": [
      "enter a number: 10\n"
     ]
    },
    {
     "name": "stdout",
     "output_type": "stream",
     "text": [
      "num,is even number.\n"
     ]
    }
   ],
   "source": [
    "\"\"\"10)Write a Python program to find whether a given number is even or odd, print out an appropriate message to the user.\"\"\"\n",
    "num=int(input(\"enter a number:\"))\n",
    "if n%2==0:\n",
    "    print(\"num,is even number.\")\n",
    "else:\n",
    "    print(\"num,is odd number.\")\n",
    "\n",
    "\n",
    "\n",
    "\n",
    "\n",
    "\n"
   ]
  },
  {
   "cell_type": "code",
   "execution_count": 2,
   "id": "4c5b38e1-5e85-41af-8396-91976b6a315a",
   "metadata": {},
   "outputs": [
    {
     "name": "stdin",
     "output_type": "stream",
     "text": [
      "enter a letter u\n"
     ]
    },
    {
     "name": "stdout",
     "output_type": "stream",
     "text": [
      "letter is vowel\n"
     ]
    }
   ],
   "source": [
    "\"\"\"11)) Write a Python program to test whether a passed letter is a vowel\n",
    "or not\"\"\"\n",
    "\n",
    "letter = input(\"enter a letter\")\n",
    "vowel = [\"a\",\"e\",\"i\",\"o\",\"u\"]\n",
    "\n",
    "if letter.lower() in vowel:\n",
    "    print(\"letter is vowel\")\n",
    "else:\n",
    "    print(\"letter is not vowel\")"
   ]
  },
  {
   "cell_type": "code",
   "execution_count": 5,
   "id": "3fa9c124-3d86-4a1b-9a6b-66b06b1eb067",
   "metadata": {},
   "outputs": [
    {
     "name": "stdout",
     "output_type": "stream",
     "text": [
      "0\n",
      "0\n",
      "0\n",
      "6\n"
     ]
    }
   ],
   "source": [
    "\"\"\"12)Write a Python program to sum of three given integers. However, if two values are equal sum will be zero.\"\"\"\n",
    "def sum(x,y,z):\n",
    "      if x == y or y == z or x == z:\n",
    "          sum = 0\n",
    "      else:\n",
    "           sum = x + y + z\n",
    "      return sum\n",
    "print(sum(2,1,2))\n",
    "print(sum(3,2,2))\n",
    "print(sum(2,2,2))\n",
    "print(sum(1,2,3))\n",
    "\n",
    "\n"
   ]
  },
  {
   "cell_type": "code",
   "execution_count": 22,
   "id": "8afcdd19-6d7c-42df-9d36-597c09883983",
   "metadata": {},
   "outputs": [
    {
     "name": "stdout",
     "output_type": "stream",
     "text": [
      "True\n",
      "True\n",
      "False\n",
      "True\n"
     ]
    }
   ],
   "source": [
    "\"\"\"13) Write a Python program that will return true if the two given integer values are equal or their sum or difference is 5.\"\"\"\n",
    "\n",
    "def test(a,b):\n",
    "\n",
    "    if a == b or abs(a-b) == 5 or (a+b) == 5:\n",
    "        return True\n",
    "    else:\n",
    "         return False\n",
    "\n",
    "print(test(7,2))\n",
    "print(test(3,2))\n",
    "print(test(27,53))\n",
    "print(test(2,2))"
   ]
  },
  {
   "cell_type": "code",
   "execution_count": 30,
   "id": "0f51c135-e795-4a20-911e-ef2ba82c1d7a",
   "metadata": {},
   "outputs": [
    {
     "name": "stdin",
     "output_type": "stream",
     "text": [
      "Enter Value of n : 10\n"
     ]
    },
    {
     "name": "stdout",
     "output_type": "stream",
     "text": [
      "Sum of The First n Possitive Integers :  55\n"
     ]
    }
   ],
   "source": [
    "\"\"\"14) Write a python program to sum of the first n positive integers. \"\"\"\n",
    "\n",
    "n = int(input(\"Enter Value of n :\"))\n",
    "\n",
    "total = 0\n",
    "index = 0\n",
    "while index <= n:\n",
    "    total = total + index\n",
    "    index = index + 1\n",
    "\n",
    "print(\"Sum of The First n Possitive Integers : \",total)\n"
   ]
  },
  {
   "cell_type": "code",
   "execution_count": 33,
   "id": "64a1e4f3-6ea1-4635-8ea2-56b0595fb2ca",
   "metadata": {},
   "outputs": [
    {
     "name": "stdout",
     "output_type": "stream",
     "text": [
      "14\n"
     ]
    }
   ],
   "source": [
    "\"\"\"15)Write a program to calculate the length of a string.\"\"\"\n",
    "def string_length(str1):\n",
    "    count = 0\n",
    "    for char in str1:\n",
    "        count += 1\n",
    "    return count\n",
    "print(string_length(\"amanshinde.com\"))\n"
   ]
  },
  {
   "cell_type": "code",
   "execution_count": 35,
   "id": "e2f1f4d9-7fe8-46a5-bcc1-e1a3a8de1ee0",
   "metadata": {},
   "outputs": [
    {
     "name": "stdin",
     "output_type": "stream",
     "text": [
      "Enter a String :  hello\n"
     ]
    },
    {
     "name": "stdout",
     "output_type": "stream",
     "text": [
      "count of charecters in a string is :  5\n"
     ]
    }
   ],
   "source": [
    "\"\"\"16) Write a Python program to count the number of characters\n",
    "(character frequency) in a string \"\"\"\n",
    "\n",
    "\n",
    "text = input(\"Enter a String : \")\n",
    "\n",
    "index = 0\n",
    "for _ in text:\n",
    "     index += 1\n",
    "\n",
    "print(\"count of charecters in a string is : \", index)\n",
    "\n"
   ]
  },
  {
   "cell_type": "code",
   "execution_count": 40,
   "id": "bf9ac87c-4ae1-4858-97c1-dd9c6a1a37c8",
   "metadata": {},
   "outputs": [
    {
     "name": "stdout",
     "output_type": "stream",
     "text": [
      "lastnumber\n"
     ]
    }
   ],
   "source": [
    "\"\"\"17)What are negative indexes and why are they used? \"\"\"\n",
    "\n",
    "my_list=[1,2,3,4,5             negative indexing is a feature of python that allows you to access elements of a sequence from the end ,                            \n",
    "lastnumber=my_list[-1]         with the last element.\n",
    "print(\"lastnumber\")          \n",
    "\n",
    "\n",
    "\n",
    "\n"
   ]
  },
  {
   "cell_type": "code",
   "execution_count": 1,
   "id": "e0d1a0a8-0138-42fb-8eb8-8b17d77fcd53",
   "metadata": {},
   "outputs": [
    {
     "name": "stdin",
     "output_type": "stream",
     "text": [
      "Enter a string :  Write a Python program to count occurrences of a substring in a string\n",
      "Enter a substring :  a\n"
     ]
    },
    {
     "name": "stdout",
     "output_type": "stream",
     "text": [
      "Substring occurs 4 times \n"
     ]
    }
   ],
   "source": [
    "\"\"\"18)Write a Python program to count occurrences of a substring in a string.\"\"\"\n",
    "\n",
    "my_string = input(\"Enter a string : \")\n",
    "my_substring = input(\"Enter a substring : \")\n",
    "\n",
    "my_count = my_string.count(my_substring)\n",
    "\n",
    "print(\"Substring occurs %d times \"% my_count)\n",
    "\n"
   ]
  },
  {
   "cell_type": "code",
   "execution_count": 2,
   "id": "23e4ed9f-e8ad-4c7e-80a6-2c35e3f5f9b2",
   "metadata": {},
   "outputs": [
    {
     "name": "stdin",
     "output_type": "stream",
     "text": [
      "Enter the String:  red green blue red orange blue black blue\n",
      "Enter word:  blue\n"
     ]
    },
    {
     "name": "stdout",
     "output_type": "stream",
     "text": [
      "count of the word is:  3\n"
     ]
    }
   ],
   "source": [
    "\"\"\"19)Write a Python program to count the occurrences of each word in a \"\"\"\n",
    "\n",
    "string=input(\"Enter the String: \")\n",
    "word=input(\"Enter word: \")\n",
    "a=[]\n",
    "count=0\n",
    "a=string.split(\" \")\n",
    "for i in range (0,len(a)):\n",
    "    if (word==a[i]):\n",
    "        count=count+1\n",
    "print(\"count of the word is: \",count)\n",
    "\n",
    "\n",
    "\n"
   ]
  },
  {
   "cell_type": "code",
   "execution_count": 7,
   "id": "07a8a16f-0e08-453d-9db6-f2bd2f9be20e",
   "metadata": {},
   "outputs": [
    {
     "name": "stdin",
     "output_type": "stream",
     "text": [
      "Enter First String :  hrllo\n",
      "Enter Second String :  name\n"
     ]
    },
    {
     "name": "stdout",
     "output_type": "stream",
     "text": [
      "Output String is : nallo hrme\n"
     ]
    }
   ],
   "source": [
    "\"\"\"20)Write a Python program to get a single string from two given strings,\n",
    "separated by a space and swap the first two characters of each string. \"\"\"\n",
    "\n",
    "first = input(\"Enter First String : \")\n",
    "second = input(\"Enter Second String : \")\n",
    "\n",
    "output_string = second[:2] + first[2:] +\" \"+ first[:2] + second[2:]\n",
    "\n",
    "print(f\"Output String is : {output_string}\")\n",
    "\n",
    "\n",
    "\n",
    "\n",
    "\n",
    "\n"
   ]
  },
  {
   "cell_type": "code",
   "execution_count": 22,
   "id": "d55d5c07-13c3-4ab6-b97d-e913136e02fc",
   "metadata": {},
   "outputs": [
    {
     "name": "stdout",
     "output_type": "stream",
     "text": [
      "playing\n",
      "playinging\n",
      "go\n",
      "jumping\n"
     ]
    }
   ],
   "source": [
    "\"\"\"21) Write a Python program to add 'in' at the end of a given string (length\n",
    "should be at least 3). If the given string already ends with 'ing' then\n",
    "add 'ly' instead if the string length of the given string is less than 3,\n",
    "leave it unchanged.\"\"\"\n",
    "\n",
    "def modify_string(input_string):\n",
    "    if len(input_string) < 3:\n",
    "        return input_string\n",
    "    elif input_string.endswith(\"-ing\"):\n",
    "        return input_string + '-ly'\n",
    "    else:\n",
    "        return input_string + 'ing'\n",
    "\n",
    "print(modify_string(\"play\"))\n",
    "print(modify_string(\"playing\"))\n",
    "print(modify_string(\"go\"))\n",
    "print(modify_string(\"jump\"))\n",
    "\n",
    "\n",
    "\n",
    "\n",
    "\n"
   ]
  },
  {
   "cell_type": "code",
   "execution_count": 3,
   "id": "7bdd9b06-80a6-4f98-abcd-8b851f67baec",
   "metadata": {},
   "outputs": [
    {
     "name": "stdout",
     "output_type": "stream",
     "text": [
      "nama\n"
     ]
    }
   ],
   "source": [
    "\"\"\"22) Write a Python function to reverses a string if its length is a multiple of 4\"\"\"\n",
    "\n",
    "def reverse_if_multiple_of_four(s):\n",
    "    if len(s) % 4 == 0:\n",
    "        return s[::-1]\n",
    "    return s\n",
    "\n",
    "print(reverse_if_multiple_of_four(\"aman\"))\n",
    "\n",
    "\n",
    "\n",
    "\n"
   ]
  },
  {
   "cell_type": "code",
   "execution_count": 4,
   "id": "5b6e22b7-6db0-47f0-8270-785b6d3c00d3",
   "metadata": {},
   "outputs": [
    {
     "name": "stdin",
     "output_type": "stream",
     "text": [
      "Enter a string :  are you there\n"
     ]
    },
    {
     "name": "stdout",
     "output_type": "stream",
     "text": [
      "new modified string is :  arre\n"
     ]
    }
   ],
   "source": [
    "\"\"\"23) Write a Python program to get a string made of the first 2 and the last\n",
    "2 chars from a given a string. If the string length is less than 2, return\n",
    "instead of the empty string. \"\"\"\n",
    "\n",
    "def get_string(text):\n",
    "    if len(text) < 2:\n",
    "       return \"\"\n",
    "    return text[:2] + text[-2:]\n",
    "\n",
    "my_string = input(\"Enter a string : \")\n",
    "print(\"new modified string is : \", get_string(my_string))\n",
    "\n",
    "\n"
   ]
  },
  {
   "cell_type": "code",
   "execution_count": 17,
   "id": "5d03a229-5bbc-47c3-937d-53af74729bcf",
   "metadata": {},
   "outputs": [
    {
     "name": "stdout",
     "output_type": "stream",
     "text": [
      "t3pythonso\n"
     ]
    }
   ],
   "source": [
    "\"\"\"24)Write a Python function to insert a string in the middle of a string\"\"\"\n",
    "\n",
    "def insert_string_middle(str,word):\n",
    "    return str[:2] + word + str[2:]\n",
    "\n",
    "print(insert_string_middle(\"t3so\", \"python\"))\n",
    "\n",
    "\n",
    "\n"
   ]
  },
  {
   "cell_type": "code",
   "execution_count": 18,
   "id": "0e6d2ea8-7324-4362-aeb5-91b3a182d127",
   "metadata": {},
   "outputs": [
    {
     "name": "stdout",
     "output_type": "stream",
     "text": [
      "[5, 4, 3, 2, 1]\n",
      "[5, 4, 3, 2, 1]\n"
     ]
    }
   ],
   "source": [
    "\"\"\"25)What is List? How will you reverse a list? \"\"\"\n",
    "\n",
    "In programming, a list (also known as an array or sequence) is a collection of items that can be of any data type, including strings, integers, floats, and other lists. Lists are a fundamental data structure in many programming languages, including Python, Java, C++, and more\n",
    "\n",
    "\n",
    "\n",
    "my_list = [1, 2, 3, 4, 5]\n",
    "reversed_list = my_list[::-1]  # using slicing\n",
    "print(reversed_list)  # [5, 4, 3, 2, 1]\n",
    "\n",
    "# or\n",
    "my_list.reverse()  # using the reverse() method\n",
    "print(my_list)  # [5, 4, 3, 2, 1]\n",
    "\n"
   ]
  },
  {
   "cell_type": "code",
   "execution_count": 20,
   "id": "69940ef7-e9c6-44b8-b22c-45029b17a503",
   "metadata": {},
   "outputs": [
    {
     "data": {
      "text/plain": [
       "['a', 'e', 'i', 'o']"
      ]
     },
     "execution_count": 20,
     "metadata": {},
     "output_type": "execute_result"
    }
   ],
   "source": [
    "\"\"\"26)How will you remove last object from a list?\"\"\"\n",
    "\n",
    "\n",
    "list_of_vowels = ['a','e','i','o','u']\n",
    "list_of_vowels.pop()\n",
    "\n",
    "list_of_vowels\n",
    "['a','e','i','o']\n"
   ]
  },
  {
   "cell_type": "code",
   "execution_count": 21,
   "id": "a57b56e7-a28b-493d-9ded-62f38fe7b564",
   "metadata": {},
   "outputs": [
    {
     "name": "stdout",
     "output_type": "stream",
     "text": [
      "25\n"
     ]
    }
   ],
   "source": [
    "\"\"\"27)Suppose list1 is [2, 33, 222, 14, and 25], what is list1 [-1]? \"\"\"\n",
    "\n",
    "\n",
    "\n",
    "list1 = [2, 33, 222, 14, 25]\n",
    "print(list1[-1]) \n",
    "\n",
    "\n",
    "\n",
    "\n"
   ]
  },
  {
   "cell_type": "code",
   "execution_count": null,
   "id": "5db97a1f-59ad-4792-9629-76d2312b828e",
   "metadata": {},
   "outputs": [],
   "source": [
    "\"\"\"28)Differentiate between append () and extend () methods?\"\"\"\n",
    "\n",
    "The append() method is used to add a single element to the end of a list. It takes only one argument.\n",
    "\n",
    "The extend() method is used to add multiple elements to the end of a list. It takes an iterable as an argument.\n",
    "\n",
    "Here is an example:\n",
    "\n",
    "my_list = [1, 2, 3] my_list.append(4) print(my_list) # Output: [1, 2, 3, 4]\n",
    "\n",
    "my_list = [1, 2, 3] my_list.extend([4, 5, 6]) print(my_list) # Output: [1, 2, 3, 4, 5, 6]\n",
    "\n"
   ]
  },
  {
   "cell_type": "code",
   "execution_count": 44,
   "id": "89ec6c06-17b9-4beb-8a4e-663de1c62abb",
   "metadata": {},
   "outputs": [
    {
     "name": "stdout",
     "output_type": "stream",
     "text": [
      "[1, 2, 4, 5, 8, 9]\n",
      "the largest item in the list: 9\n",
      "[1, 2, 4, 5, 8, 9]\n",
      "the smallest item in the list: 1\n"
     ]
    }
   ],
   "source": [
    "\"\"\"29 Write a Python function to get the largest number, smallest num\n",
    "and sum of all from a list.\"\"\"\n",
    "\n",
    "#for largest\n",
    "list1=[5,4,2,9,8,1]\n",
    "list1.sort()\n",
    "print(list1)\n",
    "a=list1[-1]\n",
    "print(\"the largest item in the list:\",a)\n",
    "\n",
    "#for smallest\n",
    "list1=[5,4,2,1,9,8]\n",
    "list1.sort()\n",
    "print(list1)\n",
    "a=list1[0]\n",
    "print(\"the smallest item in the list:\",a)\n",
    "\n",
    "\n"
   ]
  },
  {
   "cell_type": "code",
   "execution_count": 5,
   "id": "039a27bb-c9b8-4490-9faa-3748ebb972a5",
   "metadata": {},
   "outputs": [
    {
     "name": "stdout",
     "output_type": "stream",
     "text": [
      "The lists have the same elements.\n"
     ]
    }
   ],
   "source": [
    "\"\"\"30)How will you compare two lists? \"\"\"\n",
    "\n",
    "list1 = [1, 2, 3, 4, 5]\n",
    "list2 = [5, 4, 3, 2, 1]\n",
    "\n",
    "# Convert the lists to sets and compare them\n",
    "if set(list1) == set(list2):\n",
    "    print(\"The lists have the same elements.\")\n",
    "else:\n",
    "    print(\"The lists do not have the same elements.\")\n",
    "\n",
    "\n",
    "\n"
   ]
  },
  {
   "cell_type": "code",
   "execution_count": 14,
   "id": "e53bd190-a582-4ac5-a19c-0f06a31932be",
   "metadata": {},
   "outputs": [
    {
     "name": "stdout",
     "output_type": "stream",
     "text": [
      "number of matching strings: 0\n"
     ]
    }
   ],
   "source": [
    "\"\"\"31)Write a Python program to count the number of strings where the string\n",
    "length is 2 or more and the first and last character are same from a given list\n",
    "of strings.\"\"\"\n",
    "\n",
    "\n",
    "def count_matching_strings(strings):\n",
    "    count = 0\n",
    "    for string in strings:\n",
    "        if len(string) >= 2 and string[0] == string[-1]:\n",
    "            count += 1\n",
    "        return count\n",
    "\n",
    "strings_list = ['abc','xyz','aba','1221','a']\n",
    "result = count_matching_strings(strings_list)\n",
    "\n",
    "print(\"number of matching strings:\",result)\n",
    "\n",
    "\n"
   ]
  },
  {
   "cell_type": "code",
   "execution_count": 15,
   "id": "60527299-08b2-4a2a-86d9-07c6845e951e",
   "metadata": {},
   "outputs": [
    {
     "name": "stdout",
     "output_type": "stream",
     "text": [
      "Original List: [1, 2, 2, 3, 4, 4, 5, 6, 6, 7, 8, 8, 9]\n",
      "List after removing duplicates: [1, 2, 3, 4, 5, 6, 7, 8, 9]\n"
     ]
    }
   ],
   "source": [
    "\"\"\"32)Write a Python program to remove duplicates from a list.\"\"\"\n",
    "\n",
    "def remove_duplicates(input_list):\n",
    "    return list(set(input_list))\n",
    "\n",
    "my_list = [1, 2, 2, 3, 4, 4, 5, 6, 6, 7, 8, 8, 9]\n",
    "print(\"Original List:\", my_list)\n",
    "print(\"List after removing duplicates:\", remove_duplicates(my_list))\n",
    "\n",
    "\n"
   ]
  },
  {
   "cell_type": "code",
   "execution_count": 18,
   "id": "526c0635-2bbc-4e21-a908-9f41a6873fdb",
   "metadata": {},
   "outputs": [
    {
     "name": "stdout",
     "output_type": "stream",
     "text": [
      "the list is empty.\n"
     ]
    }
   ],
   "source": [
    "\"\"\"33)Write a Python program to check a list is empty or not.\"\"\"\n",
    "\n",
    "def is_list_empty(input_list):\n",
    "    if not input_list:\n",
    "        return True\n",
    "    else:\n",
    "        return False\n",
    "\n",
    "my_list = []\n",
    "if is_list_empty(my_list):\n",
    "    print(\"the list is empty.\")\n",
    "else:\n",
    "    print(\"the list is not empty,\")\n",
    "\n",
    "\n",
    "\n",
    "\n",
    "\n"
   ]
  },
  {
   "cell_type": "code",
   "execution_count": 26,
   "id": "76dc08ac-be73-4298-8483-de75e3c8494c",
   "metadata": {},
   "outputs": [],
   "source": [
    "\"\"\"34) Write a Python function that takes two lists and returns true if they\n",
    "have at least one common member.\"\"\"\n",
    "\n",
    "\n",
    "def have_common_member(list1, list2):\n",
    "    return any(element in list2 for element in list1)\n",
    "\n",
    "\n",
    "\n"
   ]
  },
  {
   "cell_type": "code",
   "execution_count": 27,
   "id": "1e624773-2053-44f4-81ef-74a3abd8a266",
   "metadata": {},
   "outputs": [
    {
     "name": "stdout",
     "output_type": "stream",
     "text": [
      "First 5 elements: [1, 4, 9, 16, 25]\n",
      "Last 5 elements: [676, 729, 784, 841, 900]\n"
     ]
    }
   ],
   "source": [
    "\"\"\"35) Write a Python program to generate and print a list of first and last 5\n",
    "elements where the values are square of numbers between 1 and 30.\"\"\"\n",
    "\n",
    "squares = [i**2 for i in range(1, 31)]\n",
    "\n",
    "print(\"First 5 elements:\", squares[:5])\n",
    "\n",
    "print(\"Last 5 elements:\", squares[-5:])\n",
    "\n",
    "\n",
    "\n",
    "\n"
   ]
  },
  {
   "cell_type": "code",
   "execution_count": 35,
   "id": "590375eb-e9bf-41af-93ea-71831c136731",
   "metadata": {},
   "outputs": [
    {
     "name": "stdout",
     "output_type": "stream",
     "text": [
      "[1, 2, 3, 4, 5]\n"
     ]
    }
   ],
   "source": [
    " \"\"\"36Write a Python function that takes a list and returns a new list with\n",
    "unique elements of the first list.\"\"\"\n",
    "\n",
    "def get_unique_elements(input_list):\n",
    "    # convert the list of a set to remove duplicates, then back to a list\n",
    "    return list(set(input_list))\n",
    "\n",
    "\n",
    "original_list = [1,2,2,3,4,4,5]\n",
    "unique_list = get_unique_elements(original_list)\n",
    "print(unique_list)\n",
    "\n",
    "\n",
    "\n",
    "\n",
    "\n"
   ]
  },
  {
   "cell_type": "code",
   "execution_count": 38,
   "id": "9bda6ec1-4676-4c4c-8ef1-078b4627c4e4",
   "metadata": {},
   "outputs": [
    {
     "name": "stdout",
     "output_type": "stream",
     "text": [
      "helloworld\n"
     ]
    }
   ],
   "source": [
    "\"\"\"37)Write a Python program to convert a list of characters into a string\"\"\"\n",
    "\n",
    "def list_to_string(char_list):\n",
    "\n",
    "    result = ''.join(char_list)\n",
    "    return result\n",
    "\n",
    "characters = ['h', 'e', 'l', 'l', 'o', '','w', 'o', 'r', 'l', 'd']\n",
    "string = list_to_string(characters)\n",
    "print(string)\n",
    "    \n",
    "\n",
    "\n",
    "\n",
    "\n",
    "\n"
   ]
  },
  {
   "cell_type": "code",
   "execution_count": 41,
   "id": "bc4d6f86-c86b-4b69-986c-8820e4972dc0",
   "metadata": {},
   "outputs": [
    {
     "name": "stdout",
     "output_type": "stream",
     "text": [
      "the randomly selected item is: {random_items}\n"
     ]
    }
   ],
   "source": [
    "\"\"\"38)Write a Python program to select an item randomly from a list.\"\"\"\n",
    "\n",
    "import random\n",
    "\n",
    "items = ['apple', 'banana', 'cherry', 'date', 'orange']\n",
    "random_item = random.choice(items)\n",
    "print(\"the randomly selected item is: {random_items}\")\n",
    "\n",
    "\n"
   ]
  },
  {
   "cell_type": "code",
   "execution_count": 42,
   "id": "c3db3d18-7c68-483f-9885-7c431cab7504",
   "metadata": {},
   "outputs": [
    {
     "name": "stdout",
     "output_type": "stream",
     "text": [
      "Second smallest number is: 10\n"
     ]
    }
   ],
   "source": [
    "\"\"\"39)Write a Python program to find the second smallest number in a list.\"\"\"\n",
    "\n",
    "\n",
    "def second_smallest(numbers):\n",
    "    if len(numbers) < 2:\n",
    "        return None\n",
    "    smallest = second_smallest = float('inf')\n",
    "    for num in numbers:\n",
    "        if num <= smallest:\n",
    "            second_smallest = smallest\n",
    "            smallest = num\n",
    "        elif num < second_smallest and num != smallest:\n",
    "            second_smallest = num\n",
    "    if second_smallest == float('inf'):\n",
    "        return None\n",
    "    return second_smallest\n",
    "\n",
    "numbers = [12, 13, 1, 10, 34, 16]\n",
    "print(\"Second smallest number is:\", second_smallest(numbers))\n",
    "\n"
   ]
  },
  {
   "cell_type": "code",
   "execution_count": 43,
   "id": "79540a28-c245-49c1-8405-996b9abd0380",
   "metadata": {},
   "outputs": [
    {
     "name": "stdout",
     "output_type": "stream",
     "text": [
      "Original List: [1, 2, 2, 3, 4, 4, 5, 6, 6]\n",
      "Unique Values: [1, 2, 3, 4, 5, 6]\n"
     ]
    }
   ],
   "source": [
    "\"\"\"40)Write a Python program to get unique values from a list \"\"\"\n",
    "\n",
    "def get_unique_values(lst):\n",
    "    \"\"\"\n",
    "    Returns a list of unique values from the input list\n",
    "    \"\"\"\n",
    "    return list(set(lst))\n",
    "\n",
    "my_list = [1, 2, 2, 3, 4, 4, 5, 6, 6]\n",
    "unique_values = get_unique_values(my_list)\n",
    "\n",
    "print(\"Original List:\", my_list)\n",
    "print(\"Unique Values:\", unique_values)\n",
    "\n",
    "\n",
    "\n",
    "\n"
   ]
  },
  {
   "cell_type": "code",
   "execution_count": 44,
   "id": "e18331e9-8756-407c-8752-5c9486c9c4e0",
   "metadata": {},
   "outputs": [
    {
     "name": "stdout",
     "output_type": "stream",
     "text": [
      "True\n",
      "False\n"
     ]
    }
   ],
   "source": [
    "\"\"\"41)Write a Python program to check whether a list contains a sub list \"\"\"\n",
    "\n",
    "\n",
    "def contains_sublist(main_list, sub_list):\n",
    "    \"\"\"\n",
    "    Checks if a list contains a sublist.\n",
    "\n",
    "    Args:\n",
    "        main_list (list): The main list to search in.\n",
    "        sub_list (list): The sublist to search for.\n",
    "\n",
    "    Returns:\n",
    "        bool: True if the sublist is found, False otherwise.\n",
    "    \"\"\"\n",
    "    # Check if the sublist is present in the main list\n",
    "    return any(main_list[i: i + len(sub_list)] == sub_list for i in range(len(main_list)))\n",
    "\n",
    "# Example usage:\n",
    "main_list = [1, 2, 3, 4, 5, 6]\n",
    "sub_list = [2, 3, 4]\n",
    "\n",
    "print(contains_sublist(main_list, sub_list)) \n",
    "\n",
    "sub_list = [7, 8, 9]\n",
    "print(contains_sublist(main_list, sub_list))\n",
    "\n"
   ]
  },
  {
   "cell_type": "code",
   "execution_count": 45,
   "id": "dcb9d5df-b91b-43ab-9921-80bbeb61429d",
   "metadata": {},
   "outputs": [
    {
     "name": "stdout",
     "output_type": "stream",
     "text": [
      "a = 10\n",
      "b = 20\n",
      "c = 30\n",
      "d = 40\n",
      "e = 50\n"
     ]
    }
   ],
   "source": [
    "\"\"\"42)Write a Python program to split a list into different variables.\"\"\"\n",
    "\n",
    "my_list = [10, 20, 30, 40, 50]\n",
    "a, b, c, d, e = my_list\n",
    "print(\"a =\",a)\n",
    "print(\"b =\",b)\n",
    "print(\"c =\",c)\n",
    "print(\"d =\",d)\n",
    "print(\"e =\",e)"
   ]
  },
  {
   "cell_type": "code",
   "execution_count": null,
   "id": "bfdaacdf-dcff-424a-8674-aac0ba4d38f9",
   "metadata": {},
   "outputs": [],
   "source": [
    "\"\"\"43)What is tuple? Difference between list and tuple.\"\"\"\n",
    "tuple is a collection of objects which are ordered and immutable. Tuples are written with round brackets () and elements are separated by commas. Tuples are similar to lists, but unlike lists, tuples cannot be modified once they are created.\n",
    "\n",
    "my_tuple = (1, 2, 3, 4, 5)\n",
    "\n",
    "\n",
    "\n"
   ]
  },
  {
   "cell_type": "code",
   "execution_count": 49,
   "id": "b0551497-10a6-4d50-b482-54e382c9b994",
   "metadata": {},
   "outputs": [
    {
     "name": "stdout",
     "output_type": "stream",
     "text": [
      "the tuple is: (1, 'Hello', 3.14, True, [1, 2, 3], {'key': 'vallue'})\n",
      "Element: 1, type:<class 'int'>\n",
      "Element: Hello, type:<class 'str'>\n",
      "Element: 3.14, type:<class 'float'>\n",
      "Element: True, type:<class 'bool'>\n",
      "Element: [1, 2, 3], type:<class 'list'>\n",
      "Element: {'key': 'vallue'}, type:<class 'dict'>\n"
     ]
    }
   ],
   "source": [
    "\"\"\"44)Write a Python program to create a tuple with different data types.\"\"\"\n",
    "\n",
    "my_tuple = (1, \"Hello\", 3.14, True,[1,2,3], {\"key\": \"vallue\"})\n",
    "print(\"the tuple is:\", my_tuple)\n",
    "\n",
    "\n",
    "for item in my_tuple:\n",
    "    print(f\"Element: {item}, type:{type(item)}\")\n",
    "\n",
    "\n"
   ]
  },
  {
   "cell_type": "code",
   "execution_count": 50,
   "id": "0cd30328-e954-4b12-87f8-e7f9c5e8f434",
   "metadata": {},
   "outputs": [
    {
     "name": "stdout",
     "output_type": "stream",
     "text": [
      "Unzipped lists:\n",
      "List 1: (1, 2, 3)\n",
      "List 2: ('a', 'b', 'c')\n",
      "List 3: ('x', 'y', 'z')\n"
     ]
    }
   ],
   "source": [
    "\"\"\"45)Write a Python program to unzip a list of tuples into individual lists. \"\"\"\n",
    "\n",
    "def unzip_tuples(tuple_list):\n",
    "    return list(zip(*tuple_list))\n",
    "\n",
    "# Example usage:\n",
    "tuples = [(1, 'a', 'x'), (2, 'b', 'y'), (3, 'c', 'z')]\n",
    "unzipped_lists = unzip_tuples(tuples)\n",
    "\n",
    "print(\"Unzipped lists:\")\n",
    "print(\"List 1:\", unzipped_lists[0])\n",
    "print(\"List 2:\", unzipped_lists[1])\n",
    "print(\"List 3:\", unzipped_lists[2])\n",
    "\n"
   ]
  },
  {
   "cell_type": "code",
   "execution_count": 51,
   "id": "a9a630a0-3232-4c9e-997e-fdebee0ee2fb",
   "metadata": {},
   "outputs": [
    {
     "name": "stdout",
     "output_type": "stream",
     "text": [
      "{'a': 1, 'b': 2, 'c': 3, 'd': 4}\n"
     ]
    }
   ],
   "source": [
    "\"\"\"46)Write a Python program to convert a list of tuples into a dictionary\"\"\"\n",
    "\n",
    "def convert_tuples_to_dict(tuples_list):\n",
    "    return dict(tuples_list)\n",
    "\n",
    "tuples_list = [('a', 1), ('b', 2), ('c', 3), ('d', 4)]\n",
    "print(convert_tuples_to_dict(tuples_list))\n"
   ]
  },
  {
   "cell_type": "code",
   "execution_count": 52,
   "id": "16791f65-1a85-4c50-9cea-5ba6c6f6da00",
   "metadata": {},
   "outputs": [
    {
     "name": "stdout",
     "output_type": "stream",
     "text": [
      "{'a': 1, 'b': 2, 'c': 3, 'd': 4}\n"
     ]
    }
   ],
   "source": [
    "\"\"\"47)How will you create a dictionary using tuples in python?\"\"\"\n",
    "\n",
    "tuples_list = [('a', 1), ('b', 2), ('c', 3), ('d', 4)]\n",
    "dictionary = dict(tuples_list)\n",
    "print(dictionary) \n",
    "\n",
    "\n"
   ]
  },
  {
   "cell_type": "code",
   "execution_count": 53,
   "id": "0a1842d7-0c79-481c-b6ab-fc3639acf916",
   "metadata": {},
   "outputs": [
    {
     "name": "stdout",
     "output_type": "stream",
     "text": [
      "Sorted dictionary by value in ascending order:\n",
      "{'date': 1, 'banana': 2, 'apple': 5, 'elderberry': 7, 'cherry': 8}\n",
      "\n",
      "Sorted dictionary by value in descending order:\n",
      "{'cherry': 8, 'elderberry': 7, 'apple': 5, 'banana': 2, 'date': 1}\n"
     ]
    }
   ],
   "source": [
    "\"\"\"48)Write a Python script to sort (ascending and descending) a\n",
    "dictionary by value.\"\"\"\n",
    "\n",
    "\n",
    "my_dict = {'apple': 5, 'banana': 2, 'cherry': 8, 'date': 1, 'elderberry': 7}\n",
    "\n",
    "# Sort dictionary by value in ascending order\n",
    "sorted_dict_ascending = dict(sorted(my_dict.items(), key=lambda item: item[1]))\n",
    "print(\"Sorted dictionary by value in ascending order:\")\n",
    "print(sorted_dict_ascending)\n",
    "\n",
    "# Sort dictionary by value in descending order\n",
    "sorted_dict_descending = dict(sorted(my_dict.items(), key=lambda item: item[1], reverse=True))\n",
    "print(\"\\nSorted dictionary by value in descending order:\")\n",
    "print(sorted_dict_descending)\n",
    "\n",
    "\n"
   ]
  },
  {
   "cell_type": "code",
   "execution_count": 55,
   "id": "ba925ad6-bb26-479c-bd9d-844e626a4e29",
   "metadata": {},
   "outputs": [
    {
     "name": "stdout",
     "output_type": "stream",
     "text": [
      "{'a': 1, 'b': 2, 'c': 3, 'd': 4}\n"
     ]
    }
   ],
   "source": [
    "\"\"\"49)Write a Python script to concatenate following dictionaries to create\n",
    "a new one.\"\"\"\n",
    "\n",
    "dict1 = {'a': 1, 'b': 2}\n",
    "dict2 = {'c': 3, 'd': 4}\n",
    "\n",
    "new_dict = {}\n",
    "new_dict.update(dict1)\n",
    "new_dict.update(dict2)\n",
    "\n",
    "print(new_dict)\n",
    "\n",
    "\n"
   ]
  },
  {
   "cell_type": "code",
   "execution_count": 56,
   "id": "76f84b80-12b6-4dc5-a2ea-ea9fbdf215d3",
   "metadata": {},
   "outputs": [
    {
     "name": "stdout",
     "output_type": "stream",
     "text": [
      "The key 'age' exists in the dictionary.\n"
     ]
    }
   ],
   "source": [
    "\"\"\"50)Write a Python script to check if a given key already exists in a\n",
    "dictionary.\"\"\"\n",
    "\n",
    "\n",
    "my_dict = {'name': 'aman', 'age': 24, 'city': 'ahmedbad'}\n",
    "key_to_check = 'age'\n",
    "\n",
    "if my_dict.get(key_to_check) is not None:\n",
    "    print(f\"The key '{key_to_check}' exists in the dictionary.\")\n",
    "else:\n",
    "    print(f\"The key '{key_to_check}' does not exist in the dictionary.\")\n",
    "\n"
   ]
  },
  {
   "cell_type": "code",
   "execution_count": 1,
   "id": "e9e5d983-d620-43b2-b0e5-71f0067793b5",
   "metadata": {},
   "outputs": [
    {
     "name": "stdout",
     "output_type": "stream",
     "text": [
      "Key: a, Value: 1\n",
      "Key: b, Value: 2\n",
      "Key: c, Value: 3\n"
     ]
    }
   ],
   "source": [
    "\"\"\"51)How Do You Traverse Through a Dictionary Object in Python?\"\"\"\n",
    "\n",
    "my_dict = {'a': 1, 'b': 2, 'c': 3}\n",
    "\n",
    "for key, value in my_dict.items():\n",
    "    print(f\"Key: {key}, Value: {value}\")\n",
    "\n",
    "\n",
    "\n",
    "\n"
   ]
  },
  {
   "cell_type": "code",
   "execution_count": 2,
   "id": "796a4fef-2714-4307-b154-1054250a5adb",
   "metadata": {},
   "outputs": [
    {
     "name": "stdout",
     "output_type": "stream",
     "text": [
      "Key 'a' is present in the dictionary\n"
     ]
    }
   ],
   "source": [
    "\"\"\"52)How Do You Check the Presence of a Key in A Dictionary?\"\"\"\n",
    "\n",
    "my_dict = {'a': 1, 'b': 2, 'c': 3}\n",
    "\n",
    "if my_dict.get('a') is not None:\n",
    "    print(\"Key 'a' is present in the dictionary\")\n",
    "else:\n",
    "    print(\"Key 'a' is not present in the dictionary\")\n",
    "\n",
    "\n",
    "\n",
    "\n"
   ]
  },
  {
   "cell_type": "code",
   "execution_count": 3,
   "id": "d7f3001d-003a-4254-9a19-8f7f7bf5992d",
   "metadata": {},
   "outputs": [
    {
     "name": "stdout",
     "output_type": "stream",
     "text": [
      "{1: 0, 2: 0, 3: 0, 4: 0, 5: 0, 6: 0, 7: 0, 8: 0, 9: 0, 10: 0, 11: 0, 12: 0, 13: 0, 14: 0, 15: 0}\n"
     ]
    }
   ],
   "source": [
    "\"\"\"53)Write a Python script to print a dictionary where the keys are\n",
    "numbers between 1 and 15.\"\"\"\n",
    "\n",
    "# Create an empty dictionary\n",
    "my_dict = {}\n",
    "\n",
    "# Use a for loop to populate the dictionary\n",
    "for i in range(1, 16):\n",
    "    my_dict[i] = 0\n",
    "\n",
    "# Print the dictionary\n",
    "print(my_dict)\n",
    "\n",
    "\n",
    "\n"
   ]
  },
  {
   "cell_type": "code",
   "execution_count": 4,
   "id": "41141cee-425e-434c-8e0a-9a3af1397cae",
   "metadata": {},
   "outputs": [
    {
     "name": "stdout",
     "output_type": "stream",
     "text": [
      "All keys exist in the dictionary\n"
     ]
    }
   ],
   "source": [
    "\"\"\"54)Write a Python program to check multiple keys exists in a dictionary\"\"\"\n",
    "\n",
    "def check_keys_exist(dictionary, keys):\n",
    "    return all(key in dictionary for key in keys)\n",
    "\n",
    "# Test the function\n",
    "dictionary = {'a': 1, 'b': 2, 'c': 3, 'd': 4}\n",
    "keys_to_check = ['a', 'b', 'c']\n",
    "\n",
    "if check_keys_exist(dictionary, keys_to_check):\n",
    "    print(\"All keys exist in the dictionary\")\n",
    "else:\n",
    "    print(\"Not all keys exist in the dictionary\")\n",
    "\n",
    "\n",
    "\n",
    "\n"
   ]
  },
  {
   "cell_type": "code",
   "execution_count": 5,
   "id": "0013431d-30a5-4496-9b2f-00461a89a551",
   "metadata": {},
   "outputs": [
    {
     "name": "stdout",
     "output_type": "stream",
     "text": [
      "Original Dictionaries:\n",
      "dict1: {'a': 1, 'b': 2}\n",
      "dict2: {'b': 3, 'c': 4}\n",
      "\n",
      "Merged Dictionary (update() method):\n",
      "{'a': 1, 'b': 3, 'c': 4}\n",
      "\n",
      "Merged Dictionary ({**dict1, **dict2} syntax):\n",
      "{'a': 1, 'b': 3, 'c': 4}\n"
     ]
    }
   ],
   "source": [
    "\"\"\"55)Write a Python script to merge two Python dictionaries\"\"\"\n",
    "\n",
    "# Define two dictionaries\n",
    "dict1 = {'a': 1, 'b': 2}\n",
    "dict2 = {'b': 3, 'c': 4}\n",
    "\n",
    "# Method 1: Using the update() method\n",
    "def merge_dicts_update(dict1, dict2):\n",
    "    merged_dict = dict1.copy()  # Create a copy to avoid modifying the original dictionary\n",
    "    merged_dict.update(dict2)\n",
    "    return merged_dict\n",
    "\n",
    "# Method 2: Using the {**dict1, **dict2} syntax\n",
    "def merge_dicts_syntax(dict1, dict2):\n",
    "    return {**dict1, **dict2}\n",
    "\n",
    "# Example usage\n",
    "print(\"Original Dictionaries:\")\n",
    "print(\"dict1:\", dict1)\n",
    "print(\"dict2:\", dict2)\n",
    "\n",
    "merged_dict_update = merge_dicts_update(dict1, dict2)\n",
    "print(\"\\nMerged Dictionary (update() method):\")\n",
    "print(merged_dict_update)\n",
    "\n",
    "merged_dict_syntax = merge_dicts_syntax(dict1, dict2)\n",
    "print(\"\\nMerged Dictionary ({**dict1, **dict2} syntax):\")\n",
    "print(merged_dict_syntax)\n",
    "\n",
    "\n",
    "\n",
    "\n",
    "\n"
   ]
  },
  {
   "cell_type": "code",
   "execution_count": 7,
   "id": "8a76de5f-8a30-4682-bc9d-6ac204c869d8",
   "metadata": {},
   "outputs": [
    {
     "name": "stdout",
     "output_type": "stream",
     "text": [
      "Counter {'a': 400, 'b': 400, 'c': 300, 'd': 400}\n"
     ]
    }
   ],
   "source": [
    "\"\"\"56)Write a Python program to map two lists into a dictionary\n",
    "Sample output: Counter ({'a': 400, 'b': 400,’d’: 400, 'c': 300}). \"\"\"\n",
    "\n",
    "\n",
    "keys = ['a', 'b', 'c', 'd']\n",
    "values = [400, 400, 300, 400]\n",
    "\n",
    "counter = dict(zip(keys, values))\n",
    "\n",
    "print(\"Counter\", counter)\n",
    "\n",
    "\n",
    "\n",
    "\n"
   ]
  },
  {
   "cell_type": "code",
   "execution_count": 8,
   "id": "6f6c8348-c113-4b0c-ac76-fc1a58c0e71a",
   "metadata": {},
   "outputs": [
    {
     "name": "stdout",
     "output_type": "stream",
     "text": [
      "[60, 50, 40]\n"
     ]
    }
   ],
   "source": [
    "\"\"\"57Write a Python program to find the highest 3 values in a dictionary \"\"\"\n",
    "\n",
    "\n",
    "def highest_three_values(d):\n",
    "    return sorted(d.values(), reverse=True)[:3]\n",
    "\n",
    "d = {'a': 10, 'b': 20, 'c': 30, 'd': 40, 'e': 50, 'f': 60}\n",
    "print(highest_three_values(d))\n",
    "\n",
    "\n",
    "\n",
    "\n",
    "\n",
    "\n"
   ]
  },
  {
   "cell_type": "code",
   "execution_count": 9,
   "id": "2b00b3c6-3d18-473a-a8a9-d84edd87a089",
   "metadata": {},
   "outputs": [
    {
     "name": "stdout",
     "output_type": "stream",
     "text": [
      "{'item1': 1150, 'item2': 300}\n"
     ]
    }
   ],
   "source": [
    "\"\"\"58)Write a Python program to combine values in python list of dictionaries.\n",
    "Sample data: [{'item': 'item1', 'amount': 400}, {'item': 'item2', 'amount':\n",
    "300}, o {'item': 'item1', 'amount': 750}]\n",
    "Expected Output:\n",
    "• Counter ({'item1': 1150, 'item2': 300})\"\"\"\n",
    "\n",
    "from collections import defaultdict\n",
    "\n",
    "data = [{'item': 'item1', 'amount': 400}, {'item': 'item2', 'amount': 300}, {'item': 'item1', 'amount': 750}]\n",
    "\n",
    "counter = defaultdict(int)\n",
    "\n",
    "for d in data:\n",
    "    counter[d['item']] += d['amount']\n",
    "\n",
    "print(dict(counter))\n",
    "\n"
   ]
  },
  {
   "cell_type": "code",
   "execution_count": 11,
   "id": "d706364b-463a-41f1-8f03-cc3c8969d637",
   "metadata": {},
   "outputs": [
    {
     "name": "stdout",
     "output_type": "stream",
     "text": [
      "{'h': 1, 'e': 1, 'l': 3, 'o': 2, 'w': 1, 'r': 1, 'd': 1}\n"
     ]
    }
   ],
   "source": [
    "\"\"\"59)Write a Python program to create a dictionary from a string.\n",
    "Note: Track the count of the letters from the string.\"\"\"\n",
    "\n",
    "def string_to_dict(s):\n",
    "    letter_count = {}\n",
    "    for char in s:\n",
    "        if char.isalpha():  \n",
    "            char_lower = char.lower()  \n",
    "            if char_lower in letter_count:\n",
    "                letter_count[char_lower] += 1\n",
    "            else:\n",
    "                letter_count[char_lower] = 1\n",
    "    return letter_count\n",
    "\n",
    "\n",
    "input_string = \"Hello World\"\n",
    "result_dict = string_to_dict(input_string)\n",
    "print(result_dict)"
   ]
  },
  {
   "cell_type": "code",
   "execution_count": 12,
   "id": "bfc6e3ab-0faa-4128-890c-268f989a958f",
   "metadata": {},
   "outputs": [
    {
     "name": "stdout",
     "output_type": "stream",
     "text": [
      "{'w': 1, '3': 1, 'r': 2, 'e': 2, 's': 1, 'o': 1, 'u': 1, 'c': 1}\n"
     ]
    }
   ],
   "source": [
    "\"\"\"60)Sample string:\n",
    " 'w3resource' Expected output:\n",
    "• {'3': 1,’s’: 1, 'r': 2, 'u': 1, 'w': 1, 'c': 1, 'e': 2, 'o': 1}\"\"\"\n",
    "def count_chars(s):\n",
    "    char_count = {}\n",
    "    for char in s:\n",
    "        if char in char_count:\n",
    "            char_count[char] += 1\n",
    "        else:\n",
    "            char_count[char] = 1\n",
    "    return char_count\n",
    "\n",
    "s = 'w3resource'\n",
    "print(count_chars(s))\n",
    "\n"
   ]
  },
  {
   "cell_type": "code",
   "execution_count": 14,
   "id": "26ed4f9b-07fe-4169-b565-57f6a43cf1fb",
   "metadata": {},
   "outputs": [
    {
     "name": "stdout",
     "output_type": "stream",
     "text": [
      "120\n",
      "1\n"
     ]
    }
   ],
   "source": [
    "\"\"\"61)Write a Python function to calculate the factorial of a number (a\n",
    "nonnegative integer) \"\"\"\n",
    "\n",
    "def factorial(n):\n",
    "    if n < 0:\n",
    "        raise ValueError(\"Factorial is not defined for negative numbers.\")\n",
    "    elif n == 0 or n == 1:\n",
    "        return 1\n",
    "    else:\n",
    "         result = 1\n",
    "         for i in range(2, n + 1):\n",
    "             result *= i\n",
    "         return result    \n",
    "\n",
    "\n",
    "print(factorial(5))\n",
    "print(factorial(0))\n",
    "\n"
   ]
  },
  {
   "cell_type": "code",
   "execution_count": 18,
   "id": "33f3e495-3ec6-45af-a54e-40c3fae57f43",
   "metadata": {},
   "outputs": [
    {
     "name": "stdout",
     "output_type": "stream",
     "text": [
      "True\n",
      "False\n"
     ]
    }
   ],
   "source": [
    "\"\"\"62)Write a Python function to check whether a number is in a given range \"\"\"\n",
    "\n",
    "def is_in_range(number, start, end):\n",
    "    \"\"\"\n",
    "    check if a number is within a given range [start, end].\n",
    "\n",
    "    parameters:\n",
    "    number(int or float): The number to check.\n",
    "    start (int or float): The beginning of the range (inclusive).\n",
    "\n",
    "    return:\n",
    "    bool: True if the number is in the range, false otherwise.\n",
    "    \"\"\"\n",
    "    return start <= number <= end\n",
    "\n",
    "print(is_in_range(5, 1, 10))\n",
    "print(is_in_range(15, 1, 10))\n",
    "\n",
    "\n",
    "\n",
    "\n",
    "\n",
    "    \n",
    "\n",
    "\n",
    "\n",
    "\n"
   ]
  },
  {
   "cell_type": "code",
   "execution_count": 21,
   "id": "312ad3e9-310b-46c9-9c6b-32054dddf316",
   "metadata": {},
   "outputs": [
    {
     "name": "stdout",
     "output_type": "stream",
     "text": [
      "21 is not perfect number.\n"
     ]
    }
   ],
   "source": [
    "\"\"\"63)Write a Python function to check whether a number is perfect or not\"\"\"\n",
    "\n",
    "def is_perfect_number(n):\n",
    "    if n < 1:\n",
    "        return false\n",
    "    divisors_sum = sum(i for i in range(1, n) if n % i == 0)\n",
    "    return divisors_sum == n\n",
    "\n",
    "number = 28\n",
    "if is_perfect_number(number):\n",
    "    print(f\"{number} is a perfect number.\")\n",
    "else:\n",
    "    print(f\"{number} is not perfect number.\")\n"
   ]
  },
  {
   "cell_type": "code",
   "execution_count": 2,
   "id": "8aae94ea-b000-4b9c-9e5d-85ae336cfc4b",
   "metadata": {},
   "outputs": [
    {
     "name": "stdout",
     "output_type": "stream",
     "text": [
      "'A man, a plan, a canal, Panama' is a palindrome: True\n"
     ]
    }
   ],
   "source": [
    "\"\"\"64)Write a Pythont that checks whether a passed string is\n",
    "palindrome or not\"\"\"\n",
    "\n",
    "def is_palindrome(s: str) -> bool:\n",
    "    cleaned_string = ''.join(char.lower() for char in s if char.isalnum())\n",
    "    return cleaned_string == cleaned_string[::-1]\n",
    "\n",
    "test_string = \"A man, a plan, a canal, Panama\"\n",
    "print(f\"'{test_string}' is a palindrome: {is_palindrome(test_string)}\")\n"
   ]
  },
  {
   "cell_type": "code",
   "execution_count": null,
   "id": "2768393c-38e6-490a-b24e-4d69adc95637",
   "metadata": {},
   "outputs": [],
   "source": [
    "\"\"\"65)How Many Basic Types of Functions Are Available in Python?\"\"\"\n",
    "\n",
    "in Python, there are several basic types of functions that can be used to organize and reuse code. Here are the main types of functions\n",
    "\n",
    "1. Built-in Functions 2. User-Defined Functions 3. Lambda Functions 4. Generator Functions 5. Recursive Functions\n"
   ]
  },
  {
   "cell_type": "code",
   "execution_count": 3,
   "id": "f0efc0ab-8fa0-4242-babc-dabc449e7ad3",
   "metadata": {},
   "outputs": [
    {
     "name": "stdout",
     "output_type": "stream",
     "text": [
      "2\n"
     ]
    }
   ],
   "source": [
    "\"\"\"66)How can you pick a random item from a list or tuple?\"\"\"\n",
    "\n",
    "\n",
    "import random\n",
    "\n",
    "my_list = [1, 2, 3, 4, 5]\n",
    "random_item = random.choice(my_list)\n",
    "\n",
    "print(random_item)"
   ]
  },
  {
   "cell_type": "code",
   "execution_count": 6,
   "id": "a6c026b4-75e4-4c53-809a-ab0862c8cfd9",
   "metadata": {},
   "outputs": [
    {
     "name": "stdout",
     "output_type": "stream",
     "text": [
      "9\n"
     ]
    }
   ],
   "source": [
    "\"\"\"67)How can you pick a random item from a range? \"\"\"\n",
    "\n",
    "import random\n",
    "\n",
    "# Create a range\n",
    "rng = range(1, 10)  # This creates a range from 1 to 9\n",
    "\n",
    "# Pick a random item from the range\n",
    "random_item = random.choice(rng)\n",
    "print(random_item)\n",
    "\n"
   ]
  },
  {
   "cell_type": "code",
   "execution_count": 4,
   "id": "d73abbbf-613c-4554-ac95-964bd6a518c9",
   "metadata": {},
   "outputs": [
    {
     "name": "stdout",
     "output_type": "stream",
     "text": [
      "5\n"
     ]
    }
   ],
   "source": [
    "import random\n",
    "\n",
    "# Define the range\n",
    "start = 1\n",
    "end = 9\n",
    "\n",
    "# Pick a random number in the range\n",
    "random_item = random.randint(start, end)\n",
    "print(random_item)\n"
   ]
  },
  {
   "cell_type": "code",
   "execution_count": 7,
   "id": "b4ce4f63-86e1-49b1-b8dd-179086eeba89",
   "metadata": {},
   "outputs": [
    {
     "name": "stdout",
     "output_type": "stream",
     "text": [
      "0.7908793718478556\n"
     ]
    }
   ],
   "source": [
    "\"\"\"68)How can you get a random number in python? \"\"\"\n",
    "\n",
    "import random\n",
    "\n",
    "# Generate a random floating-point number between 0 and 1\n",
    "random_float = random.random()\n",
    "print(random_float)"
   ]
  },
  {
   "cell_type": "code",
   "execution_count": 8,
   "id": "a9b170f8-989b-4e10-90a1-c77c44e86e10",
   "metadata": {},
   "outputs": [
    {
     "name": "stdout",
     "output_type": "stream",
     "text": [
      "82\n"
     ]
    }
   ],
   "source": [
    "\"\"\"69)How will you set the starting value in generating random numbers?\"\"\"\n",
    "\n",
    "import random\n",
    "\n",
    "# Set the seed value\n",
    "random.seed(42)\n",
    "\n",
    "# Generate a random number\n",
    "print(random.randint(1, 100))"
   ]
  },
  {
   "cell_type": "code",
   "execution_count": 9,
   "id": "94ad4d2f-f6a0-4a27-b06a-5f72383e501c",
   "metadata": {},
   "outputs": [
    {
     "name": "stdout",
     "output_type": "stream",
     "text": [
      "[4, 2, 3, 5, 1]\n"
     ]
    }
   ],
   "source": [
    "\"\"\"70)How will you randomize the items of a list in place?\"\"\"\n",
    "\n",
    "import random\n",
    "\n",
    "# Define a list\n",
    "my_list = [1, 2, 3, 4, 5]\n",
    "\n",
    "# Shuffle the list in place\n",
    "random.shuffle(my_list)\n",
    "\n",
    "# Print the shuffled list\n",
    "print(my_list)\n"
   ]
  },
  {
   "cell_type": "code",
   "execution_count": 5,
   "id": "da3c3d0d-ba7a-44a9-a547-404918191cf0",
   "metadata": {},
   "outputs": [
    {
     "name": "stdout",
     "output_type": "stream",
     "text": [
      "Hello, World!\n"
     ]
    }
   ],
   "source": [
    "\"\"\"71)What is File function in python? What are keywords to create\n",
    "and write file\"\"\"\n",
    "\n",
    "\n",
    "with open(\"aman.txt\", \"w\") as file:\n",
    "    file.write(\"Hello, World!\")\n",
    "\n",
    "# Append to an existing file\n",
    "with open(\"aman.txt\", \"a\") as file:\n",
    "    file.write\n",
    "\n",
    "\n",
    "with open(\"aman.txt\", \"r\") as file:\n",
    "    print(file.read())\n",
    "    "
   ]
  },
  {
   "cell_type": "code",
   "execution_count": 1,
   "id": "5a8340d2-7348-4468-abdd-2e11c60e6f1b",
   "metadata": {},
   "outputs": [
    {
     "name": "stdout",
     "output_type": "stream",
     "text": [
      "Hello, World!\n"
     ]
    }
   ],
   "source": [
    "\"\"\"72)Write a Python program to read an entire text file.\"\"\"\n",
    "\n",
    "def read_file(file_path):\n",
    "    \"\"\"\n",
    "    Reads the contents of a text file and prints it to the console.\n",
    "\n",
    "    Parameters:\n",
    "        file_path (str): The path to the text file to be read.\n",
    "    \"\"\"\n",
    "    try:\n",
    "        with open(file_path, 'r') as file:\n",
    "            # Read the entire contents of the file\n",
    "            contents = file.read()\n",
    "            print(contents)\n",
    "    except FileNotFoundError:\n",
    "        print(f\"Error: The file '{file_path}' was not found.\")\n",
    "    except IOError:\n",
    "        print(f\"Error: An I/O error occurred while reading the file '{file_path}'.\")\n",
    "\n",
    "# Example usage\n",
    "if __name__ == \"__main__\":\n",
    "    file_path = 'aman.txt'  # Replace with your file path\n",
    "    read_file(file_path)\n",
    "\n",
    "\n",
    "\n"
   ]
  },
  {
   "cell_type": "code",
   "execution_count": 17,
   "id": "6ef68963-b277-4e10-9f71-6c52979f1243",
   "metadata": {},
   "outputs": [
    {
     "name": "stdout",
     "output_type": "stream",
     "text": [
      "Hello, World! This is an appended line.This is an example text.\n",
      "This is an example text.\n",
      "This is the new text to be appended.\n",
      "Hello, World!\n",
      "\n"
     ]
    }
   ],
   "source": [
    "\"\"\"73)Write a Python program to append text to a file and display the text.\"\"\"\n",
    "\n",
    "# python\n",
    "def append_and_display(file_name, text):\n",
    "    try:\n",
    "        with open(file_name, \"a\") as file:\n",
    "            file.write(text + \"\\n\")\n",
    "        with open(file_name, \"r\") as file:\n",
    "            print(file.read())\n",
    "    except FileNotFoundError:\n",
    "        print(f\"The file {file_name} does not exist.\")\n",
    "\n",
    "# Example usage:\n",
    "append_and_display(\"example.txt\", \"Hello, World!\")\n",
    "\n"
   ]
  },
  {
   "cell_type": "code",
   "execution_count": 11,
   "id": "c10f465c-ca81-4552-865e-e19a0d9b0412",
   "metadata": {},
   "outputs": [
    {
     "name": "stdout",
     "output_type": "stream",
     "text": [
      "Line 1: ist: A list of the first n lines of the file.\n"
     ]
    }
   ],
   "source": [
    "\"\"\"74)Write a Python program to read first n lines of a file\"\"\"\n",
    "\n",
    "def read_first_n_lines(file_path, n):\n",
    "    \"\"\"\n",
    "    Reads the first n lines of a file.\n",
    "\n",
    "    Args:\n",
    "        file_path (str): The path to the file.\n",
    "        n (int): The number of lines to read.\n",
    "\n",
    "    Returns:\n",
    "        list: A list of the first n lines of the file.\n",
    "    \"\"\"\n",
    "    try:\n",
    "        with open(file_path, 'r') as file:\n",
    "            lines = [line.strip() for line in file.readlines()[:n]]\n",
    "            return lines\n",
    "    except FileNotFoundError:\n",
    "        print(f\"File '{file_path}' not found.\")\n",
    "        return []\n",
    "\n",
    "# Example usage:\n",
    "file_path = 'aman1.txt'\n",
    "n = 5\n",
    "lines = read_first_n_lines(file_path, n)\n",
    "for i, line in enumerate(lines):\n",
    "    print(f\"Line {i+1}: {line}\")"
   ]
  },
  {
   "cell_type": "code",
   "execution_count": 2,
   "id": "b29a56ee-0581-40a5-97df-2ecbfeab177f",
   "metadata": {},
   "outputs": [
    {
     "name": "stdout",
     "output_type": "stream",
     "text": [
      "Line 1: ist: A list of the first n lines of the file.\n"
     ]
    }
   ],
   "source": [
    "\"\"\"75)Write a Python program to read last n lines of a file\"\"\"\n",
    "\n",
    "def read_last_n_lines(file_path, n):\n",
    "    \"\"\"\n",
    "    Reads the last n lines of a file.\n",
    "\n",
    "    Args:\n",
    "        file_path (str): The path to the file.\n",
    "        n (int): The number of lines to read from the end.\n",
    "\n",
    "    Returns:\n",
    "        list: A list of the last n lines of the file.\n",
    "    \"\"\"\n",
    "    with open(file_path, 'r') as file:\n",
    "        lines = file.readlines()\n",
    "        return lines[-n:]\n",
    "\n",
    "# Example usage:\n",
    "file_path = 'aman1.txt'\n",
    "n = 5\n",
    "\n",
    "last_n_lines = read_last_n_lines(file_path, n)\n",
    "for i, line in enumerate(last_n_lines):\n",
    "    print(f\"Line {i+1}: {line.strip()}\")"
   ]
  },
  {
   "cell_type": "code",
   "execution_count": 10,
   "id": "dafafe57-c868-43ff-a0c6-7ea7f628318f",
   "metadata": {},
   "outputs": [
    {
     "name": "stdout",
     "output_type": "stream",
     "text": [
      "ist: A list of the first n lines of the file.\n"
     ]
    }
   ],
   "source": [
    "\"\"\"76)Write a Python program to read a file line by line and store it into a list\"\"\"\n",
    "\n",
    "def read_file_to_list(filename):\n",
    "    # Create an empty list to store lines\n",
    "    lines = []\n",
    "    \n",
    "    # Open the file in read mode\n",
    "    with open(filename, 'r') as file:\n",
    "        # Read each line from the file\n",
    "        for line in file:\n",
    "            # Strip newline characters and append the line to the list\n",
    "            lines.append(line.strip())\n",
    "    \n",
    "    return lines\n",
    "\n",
    "# Example usage\n",
    "filename = 'aman1.txt'  # Replace with your file name\n",
    "lines = read_file_to_list(filename)\n",
    "\n",
    "# Print the lines\n",
    "for line in lines:\n",
    "    print(line)\n"
   ]
  },
  {
   "cell_type": "code",
   "execution_count": 9,
   "id": "d72401ec-2bb3-48dd-8f62-384f364a2360",
   "metadata": {},
   "outputs": [
    {
     "name": "stdout",
     "output_type": "stream",
     "text": [
      "ist: A list of the first n lines of the file.\n"
     ]
    }
   ],
   "source": [
    "\"\"\"77)rite a Python program to read a file line by line store it into a variable.\"\"\"\n",
    "\n",
    "def read_file_to_string(filename):\n",
    "    # Create an empty string to store the file content\n",
    "    content = \"\"\n",
    "    \n",
    "    # Open the file in read mode\n",
    "    with open(filename, 'r') as file:\n",
    "        # Read each line from the file\n",
    "        for line in file:\n",
    "            # Append the line to the content string\n",
    "            content += line\n",
    "    \n",
    "    return content\n",
    "\n",
    "# Example usage\n",
    "filename = 'aman1.txt'  # Replace with your file name\n",
    "file_content = read_file_to_string(filename)\n",
    "\n",
    "# Print the content\n",
    "print(file_content)\n"
   ]
  },
  {
   "cell_type": "code",
   "execution_count": 30,
   "id": "6f0bc4de-6b33-4322-a06e-9e99cbf9ab95",
   "metadata": {},
   "outputs": [
    {
     "name": "stdout",
     "output_type": "stream",
     "text": [
      "['amanpreetaayu']\n"
     ]
    }
   ],
   "source": [
    "\"\"\"78)Write a python program to find the longest words.\"\"\"\n",
    "\n",
    "\n",
    "def find_longest_words(text):\n",
    "    words = text.split()\n",
    "    longest_words = []\n",
    "    max_length = 0\n",
    "\n",
    "    for word in words:\n",
    "        if len(word) > max_length:\n",
    "            longest_words = [word]\n",
    "            max_length = len(word)\n",
    "        elif len(word) == max_length:\n",
    "            longest_words.append(word)\n",
    "\n",
    "    return longest_words\n",
    "\n",
    "text = \"This is a sample text with some very long words like amanpreetaayu\"\n",
    "print(find_longest_words(text))\n"
   ]
  },
  {
   "cell_type": "code",
   "execution_count": 33,
   "id": "68ed4ac5-b9bd-45c1-b319-2b97d8216a00",
   "metadata": {},
   "outputs": [
    {
     "name": "stdout",
     "output_type": "stream",
     "text": [
      "The number of lines in the file is: 4\n"
     ]
    }
   ],
   "source": [
    "\"\"\"79)Write a Python program to count the number of lines in a text file\"\"\"\n",
    "def count_lines_in_file(filename):\n",
    "    # Initialize the line count\n",
    "    line_count = 0\n",
    "    \n",
    "    # Open the file in read mode\n",
    "    with open(filename, 'r') as file:\n",
    "        # Iterate over each line in the file\n",
    "        for line in file:\n",
    "            # Increment the line count for each line\n",
    "            line_count += 1\n",
    "    \n",
    "    return line_count\n",
    "\n",
    "# Example usage\n",
    "filename = 'example.txt'  # Replace with your file name\n",
    "number_of_lines = count_lines_in_file(filename)\n",
    "\n",
    "# Print the number of lines\n",
    "print(f\"The number of lines in the file is: {number_of_lines}\")\n",
    "\n"
   ]
  },
  {
   "cell_type": "code",
   "execution_count": 8,
   "id": "7fd0f796-7fc8-4a67-86f6-748458f0d47f",
   "metadata": {},
   "outputs": [
    {
     "name": "stdin",
     "output_type": "stream",
     "text": [
      "Enter the file name:  aman1.txt\n"
     ]
    },
    {
     "name": "stdout",
     "output_type": "stream",
     "text": [
      "Word Frequencies:\n",
      "ist: 1\n",
      "a: 1\n",
      "list: 1\n",
      "of: 2\n",
      "the: 2\n",
      "first: 1\n",
      "n: 1\n",
      "lines: 1\n",
      "file: 1\n"
     ]
    }
   ],
   "source": [
    "\"\"\"80)Write a Python program to count the frequency of words in a file.\"\"\"\n",
    "\n",
    "import re\n",
    "from collections import Counter\n",
    "\n",
    "def count_word_frequencies(file_name):\n",
    "    with open(file_name, 'r') as file:\n",
    "        text = file.read().lower()\n",
    "        words = re.findall(r'\\b\\w+\\b', text)\n",
    "        frequency = Counter(words)\n",
    "        return dict(frequency)\n",
    "\n",
    "def main():\n",
    "    file_name = input(\"Enter the file name: \")\n",
    "    frequency = count_word_frequencies(file_name)\n",
    "    print(\"Word Frequencies:\")\n",
    "    for word, count in frequency.items():\n",
    "        print(f\"{word}: {count}\")\n",
    "\n",
    "if __name__ == \"__main__\":\n",
    "    main()"
   ]
  },
  {
   "cell_type": "code",
   "execution_count": 13,
   "id": "f5fe6e5d-83f2-4e7c-82cf-2da2ef654875",
   "metadata": {},
   "outputs": [
    {
     "name": "stdout",
     "output_type": "stream",
     "text": [
      "List written to file output.txt\n"
     ]
    }
   ],
   "source": [
    "\"\"\"81)Write a Python program to write a list to a file\"\"\"\n",
    "\n",
    "# Define the list\n",
    "my_list = [1, 2, 3, 4, 5, 6, 7, 8, 9, 10]\n",
    "\n",
    "# Open the file in write mode\n",
    "with open(\"output.txt\", \"w\") as f:\n",
    "    # Write the list to the file\n",
    "    for item in my_list:\n",
    "        f.write(str(item) + \"\\n\")\n",
    "\n",
    "print(\"List written to file output.txt\")"
   ]
  },
  {
   "cell_type": "code",
   "execution_count": 17,
   "id": "ba0c0c5f-a710-4239-8b90-e2f7367b1777",
   "metadata": {},
   "outputs": [
    {
     "name": "stdout",
     "output_type": "stream",
     "text": [
      "File copied successfully from source.txt to destination.txt\n"
     ]
    }
   ],
   "source": [
    "\"\"\")82Write a Python program to copy the contents of a file to another file\"\"\"\n",
    "# Open the file you want to copy from (source file)\n",
    "source_file = open(\"aman1.txt\", \"r\")\n",
    "\n",
    "# Read the contents of the source file\n",
    "contents = source_file.read()\n",
    "\n",
    "# Close the source file\n",
    "source_file.close()\n",
    "\n",
    "# Open the file you want to copy to (destination file)\n",
    "destination_file = open(\"destination.txt\", \"w\")\n",
    "\n",
    "# Write the contents to the destination file\n",
    "destination_file.write(contents)\n",
    "\n",
    "# Close the destination file\n",
    "destination_file.close()\n",
    "\n",
    "print(\"File copied successfully from source.txt to destination.txt\")"
   ]
  },
  {
   "cell_type": "code",
   "execution_count": null,
   "id": "c4f17607-1feb-4c19-a052-edaf8fc9c6c3",
   "metadata": {},
   "outputs": [],
   "source": [
    "\"\"\"83)Explain Exception handling? What is an Error in Python? \n",
    "    Exception handling is a mechanism in programming languages that allows you to handle runtime errors so that the normal flow of the application \n",
    "    can be maintained. It provides a way to handle the exception (an abnormal condition) that occurs during the execution of a program.\n",
    "\n",
    "    In Python, exceptions can be handled using a combination of the try, except, and finally blocks.\n",
    "\"\"\""
   ]
  },
  {
   "cell_type": "code",
   "execution_count": null,
   "id": "cf06d9f1-3873-4e1d-ac86-5e2416924ef0",
   "metadata": {},
   "outputs": [],
   "source": [
    "\"\"\"84)How many except statements can a try-except block have? Name Some built-in exception classes: \n",
    "    Ans - Exception: The base class for all exceptions.\n",
    "    SyntaxError: Raised when there is an error in Python syntax.\n",
    "    TypeError: Raised when a function or operation is applied to an object of incorrect type.\n",
    "    ValueError: Raised when a function or operation receives an argument that has the right type but an inappropriate value.\n",
    "    RuntimeError: Raised when an error occurs during program execution.\n",
    "    IOError: Raised when an I/O operation fails.\n",
    "    IndexError: Raised when a sequence subscript is out of range.\n",
    "    KeyError: Raised when a mapping key is not found.\n",
    "    NameError: Raised when a variable is not found.\n",
    "    ZeroDivisionError: Raised when division or modulo operation is attempted with zero.\n",
    "    AssertionError: Raised when an assert statement fails.\n",
    "    AttributeError: Raised when an attribute is not found.\n",
    "    ImportError: Raised when an import statement fails.\n",
    "    MemoryError: Raised when an operation runs out of memory.\n",
    "    SystemExit: Raised when the sys.exit() function is called.\n",
    "\"\"\""
   ]
  },
  {
   "cell_type": "code",
   "execution_count": 20,
   "id": "2a00ca1f-1a35-42bf-ba85-d646fbd24dab",
   "metadata": {},
   "outputs": [
    {
     "name": "stdout",
     "output_type": "stream",
     "text": [
      "You can't divide by zero!\n"
     ]
    }
   ],
   "source": [
    "\"\"\"85)When will the else part of try-except-else be executed?\"\"\"\n",
    "\n",
    "try:\n",
    "    # code that might raise an exception\n",
    "    x = 5 / 0\n",
    "except ZeroDivisionError:\n",
    "    # handle the exception\n",
    "    print(\"You can't divide by zero!\")\n",
    "else:\n",
    "    # this will be executed if no exception is raised\n",
    "    print(\"The division was successful!\")"
   ]
  },
  {
   "cell_type": "code",
   "execution_count": 29,
   "id": "5d5472b3-243c-45fd-92f0-4a4a4d78020e",
   "metadata": {},
   "outputs": [
    {
     "name": "stdout",
     "output_type": "stream",
     "text": [
      "An error occurred\n"
     ]
    }
   ],
   "source": [
    "\"\"\"86)Can one block of except statements handle multiple exception? \"\"\"\n",
    "try:\n",
    "    m = 3 / 0 \n",
    "except (ZeroDivisionError):\n",
    "    # handle all three exceptions\n",
    "    print(\"An error occurred\")"
   ]
  },
  {
   "cell_type": "code",
   "execution_count": null,
   "id": "2d5f4de9-a928-4314-8213-39ed5a11f633",
   "metadata": {},
   "outputs": [],
   "source": []
  },
  {
   "cell_type": "code",
   "execution_count": 24,
   "id": "6e7a23fe-e155-46b2-939b-e1c279a0f457",
   "metadata": {},
   "outputs": [
    {
     "name": "stdout",
     "output_type": "stream",
     "text": [
      "try block\n",
      "Finally block executed\n"
     ]
    }
   ],
   "source": [
    "\"\"\"87)When is the finally block executed? \"\"\"\n",
    "try:\n",
    "    print(\"try block\")\n",
    "except Exception:\n",
    "    print(\"expect block\")\n",
    "finally:\n",
    "    # this code is always executed, regardless of whether an exception was raised or not\n",
    "    print(\"Finally block executed\")"
   ]
  },
  {
   "cell_type": "code",
   "execution_count": null,
   "id": "417c1900-5529-4dc8-a83b-c6839479a830",
   "metadata": {},
   "outputs": [],
   "source": [
    "\"\"\"88What happens when „1‟== 1 is executed?\n",
    "Ans - In Python, \"1\" == 1 returns False\n",
    "\"\"\"\n",
    "\n"
   ]
  },
  {
   "cell_type": "code",
   "execution_count": 31,
   "id": "39fb8458-6b01-48d1-8f2a-dcaa214111d6",
   "metadata": {},
   "outputs": [
    {
     "name": "stdout",
     "output_type": "stream",
     "text": [
      "File not found!\n",
      "This code will always execute\n"
     ]
    }
   ],
   "source": [
    "\"\"\"89)how Do You Handle Exceptions with Try/Except/Finally in Python? \"\"\"\n",
    "\n",
    "try:\n",
    "    with open('non_existent_file.txt', 'r') as file:\n",
    "        print(file.read())\n",
    "except FileNotFoundError:\n",
    "    print(\"File not found!\")\n",
    "finally:\n",
    "    print(\"This code will always execute\")\n"
   ]
  },
  {
   "cell_type": "code",
   "execution_count": 32,
   "id": "9b5a28ee-14f8-48f3-b428-53168a2a9195",
   "metadata": {},
   "outputs": [
    {
     "name": "stdin",
     "output_type": "stream",
     "text": [
      "Enter an odd number:  3\n"
     ]
    },
    {
     "name": "stdout",
     "output_type": "stream",
     "text": [
      "You entered an odd number: 3\n"
     ]
    }
   ],
   "source": [
    "\"\"\"90)Write python program that user to enter only odd numbers, else\n",
    "will raise an exception. \"\"\"\n",
    "\n",
    "def get_odd_number():\n",
    "    while True:\n",
    "        try:\n",
    "            num = int(input(\"Enter an odd number: \"))\n",
    "            if num % 2 == 0:\n",
    "                raise ValueError(\"You must enter an odd number.\")\n",
    "            return num\n",
    "        except ValueError as e:\n",
    "            print(e)\n",
    "\n",
    "odd_num = get_odd_number()\n",
    "print(\"You entered an odd number:\", odd_num)"
   ]
  },
  {
   "cell_type": "code",
   "execution_count": null,
   "id": "acfb0614-6f37-4b3a-af0d-a2521120d946",
   "metadata": {},
   "outputs": [],
   "source": []
  },
  {
   "cell_type": "code",
   "execution_count": null,
   "id": "ab51243e-caec-43c3-a2e0-2f4f72ea73d2",
   "metadata": {},
   "outputs": [],
   "source": []
  },
  {
   "cell_type": "code",
   "execution_count": null,
   "id": "e79d076b-3418-420c-ae6b-bdedb8e7a260",
   "metadata": {},
   "outputs": [],
   "source": []
  }
 ],
 "metadata": {
  "kernelspec": {
   "display_name": "Python 3 (ipykernel)",
   "language": "python",
   "name": "python3"
  },
  "language_info": {
   "codemirror_mode": {
    "name": "ipython",
    "version": 3
   },
   "file_extension": ".py",
   "mimetype": "text/x-python",
   "name": "python",
   "nbconvert_exporter": "python",
   "pygments_lexer": "ipython3",
   "version": "3.12.4"
  }
 },
 "nbformat": 4,
 "nbformat_minor": 5
}
